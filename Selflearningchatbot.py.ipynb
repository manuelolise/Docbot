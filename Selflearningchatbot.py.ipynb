{
 "cells": [
  {
   "cell_type": "code",
   "execution_count": 1,
   "metadata": {},
   "outputs": [],
   "source": [
    "from newspaper import Article\n",
    "import random\n",
    "import string\n",
    "from sklearn.feature_extraction.text import TfidfVectorizer\n",
    "from sklearn.metrics.pairwise import cosine_similarity\n",
    "import nltk\n",
    "import numpy as np\n",
    "import warnings"
   ]
  },
  {
   "cell_type": "code",
   "execution_count": 2,
   "metadata": {},
   "outputs": [],
   "source": [
    "#ignore any warning messages\n",
    "warnings.filterwarnings('ignore')"
   ]
  },
  {
   "cell_type": "code",
   "execution_count": 3,
   "metadata": {},
   "outputs": [
    {
     "name": "stderr",
     "output_type": "stream",
     "text": [
      "[nltk_data] Error loading punkt: <urlopen error [Errno 11001]\n",
      "[nltk_data]     getaddrinfo failed>\n",
      "[nltk_data] Error loading wordnet: <urlopen error [Errno 11001]\n",
      "[nltk_data]     getaddrinfo failed>\n"
     ]
    },
    {
     "data": {
      "text/plain": [
       "False"
      ]
     },
     "execution_count": 3,
     "metadata": {},
     "output_type": "execute_result"
    }
   ],
   "source": [
    "nltk.download('punkt', quiet=True)\n",
    "nltk.download('wordnet', quiet=True)"
   ]
  },
  {
   "cell_type": "code",
   "execution_count": 4,
   "metadata": {},
   "outputs": [
    {
     "ename": "ArticleException",
     "evalue": "Article `download()` failed with HTTPSConnectionPool(host='www.mayoclinic.org', port=443): Max retries exceeded with url: /diseases-conditions/chronic-kidney-disease/symptoms-causes/syc-20354521 (Caused by NewConnectionError('<requests.packages.urllib3.connection.VerifiedHTTPSConnection object at 0x000001FFAF425B08>: Failed to establish a new connection: [Errno 11001] getaddrinfo failed')) on URL https://www.mayoclinic.org/diseases-conditions/chronic-kidney-disease/symptoms-causes/syc-20354521",
     "output_type": "error",
     "traceback": [
      "\u001b[1;31m---------------------------------------------------------------------------\u001b[0m",
      "\u001b[1;31mArticleException\u001b[0m                          Traceback (most recent call last)",
      "\u001b[1;32m<ipython-input-4-d5c96aa86330>\u001b[0m in \u001b[0;36m<module>\u001b[1;34m\u001b[0m\n\u001b[0;32m      1\u001b[0m \u001b[0marticle\u001b[0m \u001b[1;33m=\u001b[0m \u001b[0mArticle\u001b[0m\u001b[1;33m(\u001b[0m\u001b[1;34m'https://www.mayoclinic.org/diseases-conditions/chronic-kidney-disease/symptoms-causes/syc-20354521'\u001b[0m\u001b[1;33m)\u001b[0m\u001b[1;33m\u001b[0m\u001b[1;33m\u001b[0m\u001b[0m\n\u001b[0;32m      2\u001b[0m \u001b[0marticle\u001b[0m\u001b[1;33m.\u001b[0m\u001b[0mdownload\u001b[0m\u001b[1;33m(\u001b[0m\u001b[1;33m)\u001b[0m\u001b[1;33m\u001b[0m\u001b[1;33m\u001b[0m\u001b[0m\n\u001b[1;32m----> 3\u001b[1;33m \u001b[0marticle\u001b[0m\u001b[1;33m.\u001b[0m\u001b[0mparse\u001b[0m\u001b[1;33m(\u001b[0m\u001b[1;33m)\u001b[0m\u001b[1;33m\u001b[0m\u001b[1;33m\u001b[0m\u001b[0m\n\u001b[0m\u001b[0;32m      4\u001b[0m \u001b[0marticle\u001b[0m\u001b[1;33m.\u001b[0m\u001b[0mnlp\u001b[0m\u001b[1;33m(\u001b[0m\u001b[1;33m)\u001b[0m\u001b[1;33m\u001b[0m\u001b[1;33m\u001b[0m\u001b[0m\n\u001b[0;32m      5\u001b[0m \u001b[1;31m#creating a variable called corpus\u001b[0m\u001b[1;33m\u001b[0m\u001b[1;33m\u001b[0m\u001b[1;33m\u001b[0m\u001b[0m\n",
      "\u001b[1;32mc:\\users\\emmanuel\\appdata\\local\\programs\\python\\python37\\lib\\site-packages\\newspaper\\article.py\u001b[0m in \u001b[0;36mparse\u001b[1;34m(self)\u001b[0m\n\u001b[0;32m    189\u001b[0m \u001b[1;33m\u001b[0m\u001b[0m\n\u001b[0;32m    190\u001b[0m     \u001b[1;32mdef\u001b[0m \u001b[0mparse\u001b[0m\u001b[1;33m(\u001b[0m\u001b[0mself\u001b[0m\u001b[1;33m)\u001b[0m\u001b[1;33m:\u001b[0m\u001b[1;33m\u001b[0m\u001b[1;33m\u001b[0m\u001b[0m\n\u001b[1;32m--> 191\u001b[1;33m         \u001b[0mself\u001b[0m\u001b[1;33m.\u001b[0m\u001b[0mthrow_if_not_downloaded_verbose\u001b[0m\u001b[1;33m(\u001b[0m\u001b[1;33m)\u001b[0m\u001b[1;33m\u001b[0m\u001b[1;33m\u001b[0m\u001b[0m\n\u001b[0m\u001b[0;32m    192\u001b[0m \u001b[1;33m\u001b[0m\u001b[0m\n\u001b[0;32m    193\u001b[0m         \u001b[0mself\u001b[0m\u001b[1;33m.\u001b[0m\u001b[0mdoc\u001b[0m \u001b[1;33m=\u001b[0m \u001b[0mself\u001b[0m\u001b[1;33m.\u001b[0m\u001b[0mconfig\u001b[0m\u001b[1;33m.\u001b[0m\u001b[0mget_parser\u001b[0m\u001b[1;33m(\u001b[0m\u001b[1;33m)\u001b[0m\u001b[1;33m.\u001b[0m\u001b[0mfromstring\u001b[0m\u001b[1;33m(\u001b[0m\u001b[0mself\u001b[0m\u001b[1;33m.\u001b[0m\u001b[0mhtml\u001b[0m\u001b[1;33m)\u001b[0m\u001b[1;33m\u001b[0m\u001b[1;33m\u001b[0m\u001b[0m\n",
      "\u001b[1;32mc:\\users\\emmanuel\\appdata\\local\\programs\\python\\python37\\lib\\site-packages\\newspaper\\article.py\u001b[0m in \u001b[0;36mthrow_if_not_downloaded_verbose\u001b[1;34m(self)\u001b[0m\n\u001b[0;32m    530\u001b[0m         \u001b[1;32melif\u001b[0m \u001b[0mself\u001b[0m\u001b[1;33m.\u001b[0m\u001b[0mdownload_state\u001b[0m \u001b[1;33m==\u001b[0m \u001b[0mArticleDownloadState\u001b[0m\u001b[1;33m.\u001b[0m\u001b[0mFAILED_RESPONSE\u001b[0m\u001b[1;33m:\u001b[0m\u001b[1;33m\u001b[0m\u001b[1;33m\u001b[0m\u001b[0m\n\u001b[0;32m    531\u001b[0m             raise ArticleException('Article `download()` failed with %s on URL %s' %\n\u001b[1;32m--> 532\u001b[1;33m                   (self.download_exception_msg, self.url))\n\u001b[0m\u001b[0;32m    533\u001b[0m \u001b[1;33m\u001b[0m\u001b[0m\n\u001b[0;32m    534\u001b[0m     \u001b[1;32mdef\u001b[0m \u001b[0mthrow_if_not_parsed_verbose\u001b[0m\u001b[1;33m(\u001b[0m\u001b[0mself\u001b[0m\u001b[1;33m)\u001b[0m\u001b[1;33m:\u001b[0m\u001b[1;33m\u001b[0m\u001b[1;33m\u001b[0m\u001b[0m\n",
      "\u001b[1;31mArticleException\u001b[0m: Article `download()` failed with HTTPSConnectionPool(host='www.mayoclinic.org', port=443): Max retries exceeded with url: /diseases-conditions/chronic-kidney-disease/symptoms-causes/syc-20354521 (Caused by NewConnectionError('<requests.packages.urllib3.connection.VerifiedHTTPSConnection object at 0x000001FFAF425B08>: Failed to establish a new connection: [Errno 11001] getaddrinfo failed')) on URL https://www.mayoclinic.org/diseases-conditions/chronic-kidney-disease/symptoms-causes/syc-20354521"
     ]
    }
   ],
   "source": [
    "article = Article('https://www.mayoclinic.org/diseases-conditions/chronic-kidney-disease/symptoms-causes/syc-20354521')\n",
    "article.download()\n",
    "article.parse()\n",
    "article.nlp()\n",
    "#creating a variable called corpus\n",
    "corpus = article.text\n",
    "\n",
    "#print the corpus/text\n",
    "print(corpus)"
   ]
  },
  {
   "cell_type": "code",
   "execution_count": null,
   "metadata": {},
   "outputs": [],
   "source": [
    "#Tokenization\n",
    "text = corpus\n",
    "#Convert the text into a list of sentences\n",
    "sent_tokens = nltk.sent_tokenize(text)\n",
    "\n",
    "#Print the list of sentences\n",
    "print(sent_tokens)"
   ]
  },
  {
   "cell_type": "code",
   "execution_count": null,
   "metadata": {},
   "outputs": [],
   "source": [
    "#creating a dictionry(key:value) pair to remove punctuation\n",
    "remove_punct_dict = dict( ( ord(punct),None) for punct in string.punctuation)\n",
    "\n",
    "#Print the punctuations\n",
    "print(string.punctuation)\n",
    "\n",
    "#print the dictionary\n",
    "print(remove_punct_dict)"
   ]
  },
  {
   "cell_type": "code",
   "execution_count": null,
   "metadata": {},
   "outputs": [],
   "source": [
    "#Create a function to return a list of lemmatized lower case words after removing punctuations\n",
    "def LemNormalize(text):\n",
    "    return nltk.word_tokenize(text.lower().translate(remove_punct_dict))\n",
    "\n",
    "#Print the tokenizeation text\n",
    "print(LemNormalize(text))"
   ]
  },
  {
   "cell_type": "code",
   "execution_count": null,
   "metadata": {},
   "outputs": [],
   "source": [
    "#Keyword matching\n",
    "#Greeting inputs\n",
    "GREETING_INPUTS = [\"hi\", \"hw far\", \"hello\",\"hola\", \"hw u doing\", \"greetings\", \"wassup\", \"whats up\", \"hey\", \"wats up\"]\n",
    "\n",
    "#Greeting responses back to the user\n",
    "GREETING_RESPONSE=[\"hi\", \"hello\", \"whats gud\", \"hi there\", \"hey there\", \"hw far\", \"howdy\"]\n",
    "\n",
    "#Greeting inputs2\n",
    "GREETING_INPUTS2 = [\"hw are you doing\", \"hw u doing\", \"how r u doing\"]\n",
    "\n",
    "#Greeting response 2\n",
    "GREETING_RESPONSE2 = [\"i'm fine and you?\", \"i am fine and you?\"]\n",
    "\n",
    "#Function to return a random greeting response to the users greeting\n",
    "def greeting(sentence):\n",
    "    #if the users input is a greeting, theen return a randomly chosen greeting response\n",
    "    for word in sentence.split():\n",
    "        if word.lower() in GREETING_INPUTS:\n",
    "            return random.choice(GREETING_RESPONSE)\n",
    "        \n",
    "def greeting2(sentence2):\n",
    "    #if the users input is a greeting, theen return a randomly chosen greeting response\n",
    "    for word in sentence.split():\n",
    "        if word.lower() in GREETING_INPUTS2:\n",
    "            return random.choice(GREETING_RESPONSE2)"
   ]
  },
  {
   "cell_type": "code",
   "execution_count": null,
   "metadata": {},
   "outputs": [],
   "source": [
    "#Generate the response\n",
    "def response(user_response):\n",
    "    \n",
    "    #The user response / query\n",
    "    #user_response = 'what is chronic kidney disease'\n",
    "    \n",
    "    #Take the response lower case\n",
    "    user_response = user_response.lower()\n",
    "\n",
    "    ###Print the user query/response\n",
    "    #print(user_response)\n",
    "\n",
    "    #Set the chatbot response to an empty string\n",
    "    robo_response = ''\n",
    "\n",
    "    #Append the users response to the sentense list\n",
    "    sent_tokens.append(user_response)\n",
    "\n",
    "    ###Print the sentense list after appending the users respponse\n",
    "    #print(sent_tokens)\n",
    "\n",
    "    #Create a TfidfVectorizer object(TF=Term frequency which measures how frequent a term occurs )\n",
    "    #(IDF=Inverse document frequency which measures how rare a term is)\n",
    "    TfidfVec = TfidfVectorizer(tokenizer = LemNormalize, stop_words='english')\n",
    "\n",
    "    #Convert the text to a matrix of TF-IDF features\n",
    "    tfidf = TfidfVec.fit_transform(sent_tokens)\n",
    "\n",
    "    ###Print the TFIDF features\n",
    "    #print(tfidf)\n",
    "\n",
    "    #Get the measure of similarity (similarity scores)\n",
    "    vals = cosine_similarity(tfidf[-1], tfidf)\n",
    "\n",
    "    ###Print the similarity scores\n",
    "    #print(vals)\n",
    "\n",
    "    #Get the index of the most similar text/sentense to the users response\n",
    "    idx = vals.argsort()[0][-2]\n",
    "\n",
    "    #Reduce the dimensionality of vals\n",
    "    flat = vals.flatten()\n",
    "\n",
    "    #Sort the list in a ascending order\n",
    "    flat.sort()\n",
    "\n",
    "    #Get the most similar score to the users response\n",
    "    score = flat[-2]\n",
    "\n",
    "    #Print the similarity score\n",
    "    #print(score)\n",
    "\n",
    "    #If the variable score is zero then there is no text similar to the users response\n",
    "    if(score == 0):\n",
    "        robo_response = robo_response+\"I apologize, i don't understand.\"\n",
    "    else:\n",
    "        robo_response = robo_response+sent_tokens[idx]\n",
    "\n",
    "    ###Print the chatbot response\n",
    "    #print(robo_response)\n",
    "    \n",
    "    #Remove the users response from the sentence tokens list\n",
    "    sent_tokens.remove(user_response)\n",
    "\n",
    "    return robo_response\n",
    "\n",
    "    \n"
   ]
  },
  {
   "cell_type": "code",
   "execution_count": null,
   "metadata": {},
   "outputs": [],
   "source": [
    "flag = True\n",
    "print('DOCBot: I am Doctor ChatBot. I will answer your queries about chronic disease. If you want to exit type bye!')\n",
    "while(flag == True):\n",
    "    user_response = input()\n",
    "    user_response = user_response.lower()\n",
    "    if (user_response != 'bye'):\n",
    "        if(user_response == 'thanks' or user_response == 'thank you'):\n",
    "            flag=False\n",
    "            print(\"DOCBot: You are welcome!\")\n",
    "        else:\n",
    "            if(greeting(user_response) != None):\n",
    "                print(\"DOCBot: \"+greeting(user_response))\n",
    "            else:\n",
    "                print(\"DOCBot: :\"+response(user_response))\n",
    "                \n",
    "    else:\n",
    "        flag = False\n",
    "        print(\"DOCBot: Chat with you later\")"
   ]
  }
 ],
 "metadata": {
  "kernelspec": {
   "display_name": "Python 3",
   "language": "python",
   "name": "python3"
  },
  "language_info": {
   "codemirror_mode": {
    "name": "ipython",
    "version": 3
   },
   "file_extension": ".py",
   "mimetype": "text/x-python",
   "name": "python",
   "nbconvert_exporter": "python",
   "pygments_lexer": "ipython3",
   "version": "3.7.4"
  }
 },
 "nbformat": 4,
 "nbformat_minor": 4
}
